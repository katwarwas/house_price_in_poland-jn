{
 "cells": [
  {
   "cell_type": "markdown",
   "id": "27cf36ae",
   "metadata": {
    "toc": true
   },
   "source": [
    "<h1>Table of Contents<span class=\"tocSkip\"></span></h1>\n",
    "<div class=\"toc\"><ul class=\"toc-item\"><li><span><a href=\"#Functions-for-web-scripting\" data-toc-modified-id=\"Functions-for-web-scripting-1\"><span class=\"toc-item-num\">1&nbsp;&nbsp;</span><strong><em>Functions for web scripting</em></strong></a></span><ul class=\"toc-item\"><li><span><a href=\"#Installation-of-the-necessary-libraries\" data-toc-modified-id=\"Installation-of-the-necessary-libraries-1.1\"><span class=\"toc-item-num\">1.1&nbsp;&nbsp;</span><em>Installation of the necessary libraries</em></a></span></li><li><span><a href=\"#Importing-important-libraries\" data-toc-modified-id=\"Importing-important-libraries-1.2\"><span class=\"toc-item-num\">1.2&nbsp;&nbsp;</span><em>Importing important libraries</em></a></span></li><li><span><a href=\"#Functions-to-scroll-the-page\" data-toc-modified-id=\"Functions-to-scroll-the-page-1.3\"><span class=\"toc-item-num\">1.3&nbsp;&nbsp;</span><em>Functions to scroll the page</em></a></span></li><li><span><a href=\"#Function-to-download-data-of-interest-from-the-following-sites:.\" data-toc-modified-id=\"Function-to-download-data-of-interest-from-the-following-sites:.-1.4\"><span class=\"toc-item-num\">1.4&nbsp;&nbsp;</span><em>Function to download data of interest from the following sites:</em>.</a></span></li><li><span><a href=\"#Function-that-converts-data-into-dictionaries-with-lists\" data-toc-modified-id=\"Function-that-converts-data-into-dictionaries-with-lists-1.5\"><span class=\"toc-item-num\">1.5&nbsp;&nbsp;</span><em>Function that converts data into dictionaries with lists</em></a></span></li><li><span><a href=\"#Function-for-web-scripting.\" data-toc-modified-id=\"Function-for-web-scripting.-1.6\"><span class=\"toc-item-num\">1.6&nbsp;&nbsp;</span><em>Function for web scripting</em>.</a></span></li><li><span><a href=\"#Function-that-checks-the-number-of-pages-with-advertisements\" data-toc-modified-id=\"Function-that-checks-the-number-of-pages-with-advertisements-1.7\"><span class=\"toc-item-num\">1.7&nbsp;&nbsp;</span><em>Function that checks the number of pages with advertisements</em></a></span></li></ul></li><li><span><a href=\"#Capture-all-data\" data-toc-modified-id=\"Capture-all-data-2\"><span class=\"toc-item-num\">2&nbsp;&nbsp;</span><strong><em>Capture all data</em></strong></a></span><ul class=\"toc-item\"><li><span><a href=\"#Adres-url\" data-toc-modified-id=\"Adres-url-2.1\"><span class=\"toc-item-num\">2.1&nbsp;&nbsp;</span><em>Adres url</em></a></span></li><li><span><a href=\"#Data-extracted-from-web-scripting\" data-toc-modified-id=\"Data-extracted-from-web-scripting-2.2\"><span class=\"toc-item-num\">2.2&nbsp;&nbsp;</span><em>Data extracted from web scripting</em></a></span></li></ul></li><li><span><a href=\"#Data-as-DataFrame\" data-toc-modified-id=\"Data-as-DataFrame-3\"><span class=\"toc-item-num\">3&nbsp;&nbsp;</span><strong><em>Data as DataFrame</em></strong></a></span><ul class=\"toc-item\"><li><span><a href=\"#Pandas-library-import\" data-toc-modified-id=\"Pandas-library-import-3.1\"><span class=\"toc-item-num\">3.1&nbsp;&nbsp;</span>Pandas library import</a></span></li><li><span><a href=\"#Changing-the-object-to-a-DataFrame\" data-toc-modified-id=\"Changing-the-object-to-a-DataFrame-3.2\"><span class=\"toc-item-num\">3.2&nbsp;&nbsp;</span>Changing the object to a DataFrame</a></span></li><li><span><a href=\"#Saving-the-object-as-a-csv-file\" data-toc-modified-id=\"Saving-the-object-as-a-csv-file-3.3\"><span class=\"toc-item-num\">3.3&nbsp;&nbsp;</span>Saving the object as a csv file</a></span></li></ul></li></ul></div>"
   ]
  },
  {
   "cell_type": "markdown",
   "id": "3c8a4bc5",
   "metadata": {},
   "source": [
    "# ***House prices in Poland***"
   ]
  },
  {
   "cell_type": "markdown",
   "id": "d26fde32",
   "metadata": {},
   "source": [
    "## ***Functions for web scripting***"
   ]
  },
  {
   "cell_type": "markdown",
   "id": "592e6219",
   "metadata": {},
   "source": [
    "### *Installation of the necessary libraries*"
   ]
  },
  {
   "cell_type": "code",
   "execution_count": 1,
   "id": "9b18e486",
   "metadata": {
    "ExecuteTime": {
     "end_time": "2023-06-09T20:09:57.103763Z",
     "start_time": "2023-06-09T20:09:51.290936Z"
    },
    "noteable": {
     "output_collection_id": "a35285be-b39d-4ea7-8c47-50e590ec02ad"
    }
   },
   "outputs": [
    {
     "name": "stdout",
     "output_type": "stream",
     "text": [
      "Requirement already satisfied: selenium in /Users/katwarwas/opt/anaconda3/lib/python3.9/site-packages (4.9.0)\n",
      "Requirement already satisfied: trio~=0.17 in /Users/katwarwas/opt/anaconda3/lib/python3.9/site-packages (from selenium) (0.22.0)\n",
      "Requirement already satisfied: certifi>=2021.10.8 in /Users/katwarwas/opt/anaconda3/lib/python3.9/site-packages (from selenium) (2022.9.24)\n",
      "Requirement already satisfied: urllib3[socks]~=1.26 in /Users/katwarwas/opt/anaconda3/lib/python3.9/site-packages (from selenium) (1.26.11)\n",
      "Requirement already satisfied: trio-websocket~=0.9 in /Users/katwarwas/opt/anaconda3/lib/python3.9/site-packages (from selenium) (0.10.2)\n",
      "Requirement already satisfied: idna in /Users/katwarwas/opt/anaconda3/lib/python3.9/site-packages (from trio~=0.17->selenium) (3.3)\n",
      "Requirement already satisfied: outcome in /Users/katwarwas/opt/anaconda3/lib/python3.9/site-packages (from trio~=0.17->selenium) (1.2.0)\n",
      "Requirement already satisfied: exceptiongroup>=1.0.0rc9 in /Users/katwarwas/opt/anaconda3/lib/python3.9/site-packages (from trio~=0.17->selenium) (1.1.1)\n",
      "Requirement already satisfied: sniffio in /Users/katwarwas/opt/anaconda3/lib/python3.9/site-packages (from trio~=0.17->selenium) (1.2.0)\n",
      "Requirement already satisfied: attrs>=19.2.0 in /Users/katwarwas/opt/anaconda3/lib/python3.9/site-packages (from trio~=0.17->selenium) (21.4.0)\n",
      "Requirement already satisfied: async-generator>=1.9 in /Users/katwarwas/opt/anaconda3/lib/python3.9/site-packages (from trio~=0.17->selenium) (1.10)\n",
      "Requirement already satisfied: sortedcontainers in /Users/katwarwas/opt/anaconda3/lib/python3.9/site-packages (from trio~=0.17->selenium) (2.4.0)\n",
      "Requirement already satisfied: wsproto>=0.14 in /Users/katwarwas/opt/anaconda3/lib/python3.9/site-packages (from trio-websocket~=0.9->selenium) (1.2.0)\n",
      "Requirement already satisfied: PySocks!=1.5.7,<2.0,>=1.5.6 in /Users/katwarwas/opt/anaconda3/lib/python3.9/site-packages (from urllib3[socks]~=1.26->selenium) (1.7.1)\n",
      "Requirement already satisfied: h11<1,>=0.9.0 in /Users/katwarwas/opt/anaconda3/lib/python3.9/site-packages (from wsproto>=0.14->trio-websocket~=0.9->selenium) (0.14.0)\n",
      "Note: you may need to restart the kernel to use updated packages.\n",
      "Requirement already satisfied: beautifulsoup4 in /Users/katwarwas/opt/anaconda3/lib/python3.9/site-packages (4.11.1)\n",
      "Requirement already satisfied: soupsieve>1.2 in /Users/katwarwas/opt/anaconda3/lib/python3.9/site-packages (from beautifulsoup4) (2.3.1)\n",
      "Note: you may need to restart the kernel to use updated packages.\n",
      "Requirement already satisfied: price_parser in /Users/katwarwas/opt/anaconda3/lib/python3.9/site-packages (0.3.4)\n",
      "Requirement already satisfied: attrs>=17.3.0 in /Users/katwarwas/opt/anaconda3/lib/python3.9/site-packages (from price_parser) (21.4.0)\n",
      "Note: you may need to restart the kernel to use updated packages.\n"
     ]
    }
   ],
   "source": [
    "%pip install selenium \n",
    "%pip install beautifulsoup4\n",
    "%pip install price_parser"
   ]
  },
  {
   "cell_type": "markdown",
   "id": "72665541",
   "metadata": {},
   "source": [
    "### *Importing important libraries*"
   ]
  },
  {
   "cell_type": "code",
   "execution_count": 2,
   "id": "8817fd18",
   "metadata": {
    "ExecuteTime": {
     "end_time": "2023-06-09T20:09:57.253010Z",
     "start_time": "2023-06-09T20:09:57.106226Z"
    },
    "noteable": {
     "output_collection_id": "79558aa0-0d12-4a51-a9a3-dfb0100c60aa"
    }
   },
   "outputs": [],
   "source": [
    "import time \n",
    "import selenium\n",
    "from selenium import webdriver\n",
    "from bs4 import BeautifulSoup\n",
    "from selenium.webdriver.support.ui import WebDriverWait\n",
    "from selenium.webdriver.common.by import By\n",
    "from selenium.webdriver.support import expected_conditions as EC\n",
    "from price_parser import Price"
   ]
  },
  {
   "cell_type": "markdown",
   "id": "8a946b02",
   "metadata": {},
   "source": [
    "### *Functions to scroll the page*"
   ]
  },
  {
   "cell_type": "code",
   "execution_count": 3,
   "id": "62064e21",
   "metadata": {
    "ExecuteTime": {
     "end_time": "2023-06-09T20:09:57.256449Z",
     "start_time": "2023-06-09T20:09:57.254811Z"
    },
    "noteable": {
     "output_collection_id": "c5b9d553-79a4-4a83-87a7-f90acbdb343a"
    }
   },
   "outputs": [],
   "source": [
    "def scrollDown(driver, value):\n",
    "    driver.execute_script(\"window.scrollBy(0,\"+str(value)+\")\")"
   ]
  },
  {
   "cell_type": "code",
   "execution_count": 4,
   "id": "c0baa3f8",
   "metadata": {
    "ExecuteTime": {
     "end_time": "2023-06-09T20:09:57.260517Z",
     "start_time": "2023-06-09T20:09:57.257392Z"
    },
    "noteable": {
     "output_collection_id": "7f60fdcd-6575-440b-8aaf-78e923c8c994"
    }
   },
   "outputs": [],
   "source": [
    "def scrollDownAllTheWay(driver):\n",
    "    old_page = driver.page_source\n",
    "    while True:\n",
    "#         print(\"Scrolling down...\")\n",
    "        for i in range(2):\n",
    "            scrollDown(driver, 5000)\n",
    "            time.sleep(0.2)\n",
    "        new_page = driver.page_source\n",
    "        if new_page != old_page:\n",
    "            old_page = new_page\n",
    "        else:\n",
    "            break\n",
    "    return True"
   ]
  },
  {
   "cell_type": "markdown",
   "id": "6d8bdf7a",
   "metadata": {},
   "source": [
    "### *Function to download data of interest from the following sites:*.\n",
    "* the place where the house is located\n",
    "* price per property\n",
    "* price per m2\n",
    "* number of rooms \n",
    "* area of the house "
   ]
  },
  {
   "cell_type": "code",
   "execution_count": 5,
   "id": "d267dd4b",
   "metadata": {
    "ExecuteTime": {
     "end_time": "2023-06-09T20:09:57.267184Z",
     "start_time": "2023-06-09T20:09:57.262112Z"
    },
    "noteable": {
     "output_collection_id": "67fb0166-5008-4bc9-b163-f7e855e7af03"
    }
   },
   "outputs": [],
   "source": [
    "def get_data_from_pages(html):\n",
    "    info = []\n",
    "    soup = BeautifulSoup(html, 'html.parser')\n",
    "    all_search = soup.find('div', {'data-cy': \"search.listing.organic\"})\n",
    "    voivodeship = soup.find('h1', class_='css-142cvbz elbi2ci1').text.split(':')[1].strip()\n",
    "    \n",
    "    for li in all_search.find_all('li', {\"data-cy\": \"listing-item\"}):\n",
    "        city = li.find('p', class_='css-14aokuk e1ualqfi4').text\n",
    "        div = li.find('div', class_=\"eel6co20 css-1ucvgmr ei6hyam0\")\n",
    "        all_span = div.find_all('span')\n",
    "        date = [voivodeship, city]\n",
    "        \n",
    "        for span in all_span:\n",
    "            date.append(span.text)\n",
    "        info.append(date)\n",
    "    \n",
    "    new_info = [i for i in info if len(i) > 5 and i[2] != 'Zapytaj o cenę']\n",
    "    \n",
    "    for item in new_info:\n",
    "        item[:] = [x.replace('\\xa0', '') for x in item]\n",
    "        item[2] = int(Price.fromstring(item[2]).amount)\n",
    "        item[3] = Price.fromstring(item[3]).amount\n",
    "        item[4] = int(item[4].replace(' pokój', '').replace(' pokoje', '').replace('pokoi', '').replace('+ ', ''))\n",
    "        item[5] = int(float(item[5].replace(' m²', '')))\n",
    "    \n",
    "    return new_info"
   ]
  },
  {
   "cell_type": "markdown",
   "id": "3f519009",
   "metadata": {},
   "source": [
    "### *Function that converts data into dictionaries with lists*"
   ]
  },
  {
   "cell_type": "code",
   "execution_count": 6,
   "id": "fefb8e44",
   "metadata": {
    "ExecuteTime": {
     "end_time": "2023-06-09T20:09:57.272219Z",
     "start_time": "2023-06-09T20:09:57.268568Z"
    },
    "noteable": {
     "output_collection_id": "f9079fc0-1ddf-4c0c-a400-6483cbd67c98"
    }
   },
   "outputs": [],
   "source": [
    "def all_data_dict(info):\n",
    "    data = {'voivodeship': [],'town': [], 'price': [], 'price per m2': [], 'number of rooms': [], 'area': []}\n",
    "    seen_combinations = set()\n",
    "\n",
    "    for item in info:\n",
    "        combination = (item[0], item[1], item[2], item[3], item[4], item[5])\n",
    "\n",
    "        if combination not in seen_combinations and item[5] <= 1000:\n",
    "            seen_combinations.add(combination)\n",
    "            data['voivodeship'].append(item[0])\n",
    "            data['town'].append(item[1])\n",
    "            data['price'].append(item[2])\n",
    "            data['price per m2'].append(item[3])\n",
    "            data['number of rooms'].append(item[4])\n",
    "            data['area'].append(item[5])\n",
    "\n",
    "    return data"
   ]
  },
  {
   "cell_type": "markdown",
   "id": "13cd896c",
   "metadata": {},
   "source": [
    "### *Function for web scripting*.\n",
    "A function that pulls data from a page and changes it "
   ]
  },
  {
   "cell_type": "code",
   "execution_count": 7,
   "id": "137e3ab5",
   "metadata": {
    "ExecuteTime": {
     "end_time": "2023-06-09T20:09:57.277380Z",
     "start_time": "2023-06-09T20:09:57.273287Z"
    },
    "noteable": {
     "output_collection_id": "189a3d16-59c7-47b5-9ad3-eafadf51e30d"
    }
   },
   "outputs": [],
   "source": [
    "def web_scripping(urls_pages):\n",
    "    info = []\n",
    "    driver = webdriver.Safari()\n",
    "    count = 1\n",
    "    print('Start')\n",
    "    for url, number_of_pages in urls_pages.items():\n",
    "        driver.get(url)\n",
    "        print('Start voivodeship')\n",
    "        start_time = time.time()\n",
    "        for i in range(number_of_pages):\n",
    "            if i == math.ceil(number_of_pages/2):\n",
    "                print('50%')\n",
    "            scrollDownAllTheWay(driver)\n",
    "            html = driver.page_source\n",
    "            info += get_data_from_pages(html)\n",
    "            while True:\n",
    "                try:\n",
    "                    driver.execute_script(\"document.querySelector(\\\"button[data-cy='pagination.next-page']\\\").click()\")\n",
    "                    break\n",
    "                except:\n",
    "                    pass\n",
    "            time.sleep(2)\n",
    "        print('End of voivodeship: ', count)\n",
    "        count += 1\n",
    "        time.sleep(120)\n",
    "    print('End webscripping!')\n",
    "    driver.close()\n",
    "    data = all_data_dict(info)\n",
    "    return data"
   ]
  },
  {
   "cell_type": "markdown",
   "id": "b1488465",
   "metadata": {},
   "source": [
    "### *Function that checks the number of pages with advertisements*"
   ]
  },
  {
   "cell_type": "code",
   "execution_count": 8,
   "id": "2ba0f2cf",
   "metadata": {
    "ExecuteTime": {
     "end_time": "2023-06-09T20:09:57.281724Z",
     "start_time": "2023-06-09T20:09:57.278699Z"
    },
    "noteable": {
     "output_collection_id": "a02aa618-e598-4417-90c9-e6abc1b2d1c5"
    }
   },
   "outputs": [],
   "source": [
    "from urllib.request import urlopen\n",
    "import math\n",
    "def urls_pages(urls):\n",
    "    urls_numbers = {}\n",
    "    for url in urls:\n",
    "        page = urlopen(url)\n",
    "        html = page.read().decode('utf-8')\n",
    "        soup = BeautifulSoup(html, 'html.parser')\n",
    "        number_of_offers = int(soup.find('span', class_='css-19fwpg e17mqyjp2').text)\n",
    "        urls_numbers[url] = math.ceil(number_of_offers/72)\n",
    "    return urls_numbers"
   ]
  },
  {
   "cell_type": "markdown",
   "id": "352fef09",
   "metadata": {},
   "source": [
    "## ***Capture all data***"
   ]
  },
  {
   "cell_type": "markdown",
   "id": "3fc2b44b",
   "metadata": {},
   "source": [
    "### *Adres url*"
   ]
  },
  {
   "cell_type": "code",
   "execution_count": 9,
   "id": "63af50d1",
   "metadata": {
    "ExecuteTime": {
     "end_time": "2023-06-09T20:09:57.288218Z",
     "start_time": "2023-06-09T20:09:57.284943Z"
    },
    "noteable": {
     "output_collection_id": "82ff4d7d-b3ef-4dd7-bda4-7b00ef36a962"
    }
   },
   "outputs": [],
   "source": [
    "urls = ['https://www.otodom.pl/pl/oferty/sprzedaz/mieszkanie/dolnoslaskie?distanceRadius=0&page=1&limit=72&ownerTypeSingleSelect=ALL&locations=%5Bregions-1%5D&by=DEFAULT&direction=DESC&viewType=listing'\n",
    "        ,'https://www.otodom.pl/pl/oferty/sprzedaz/mieszkanie/kujawsko-pomorskie?distanceRadius=0&page=1&limit=72&ownerTypeSingleSelect=ALL&locations=%5Bregions-2%5D&by=DEFAULT&direction=DESC&viewType=listing'\n",
    "        ,'https://www.otodom.pl/pl/oferty/sprzedaz/mieszkanie/lodzkie?distanceRadius=0&page=1&limit=72&ownerTypeSingleSelect=ALL&locations=%5Bregions-5%5D&by=DEFAULT&direction=DESC&viewType=listing'\n",
    "        ,'https://www.otodom.pl/pl/oferty/sprzedaz/mieszkanie/lubelskie?distanceRadius=0&page=1&limit=72&ownerTypeSingleSelect=ALL&locations=%5Bregions-3%5D&by=DEFAULT&direction=DESC&viewType=listing'\n",
    "        ,'https://www.otodom.pl/pl/oferty/sprzedaz/mieszkanie/lubuskie?distanceRadius=0&page=1&limit=72&ownerTypeSingleSelect=ALL&locations=%5Bregions-4%5D&by=DEFAULT&direction=DESC&viewType=listing'\n",
    "        ,'https://www.otodom.pl/pl/oferty/sprzedaz/mieszkanie/malopolskie?distanceRadius=0&page=1&limit=72&ownerTypeSingleSelect=ALL&locations=%5Bregions-6%5D&by=DEFAULT&direction=DESC&viewType=listing'\n",
    "        ,'https://www.otodom.pl/pl/oferty/sprzedaz/mieszkanie/mazowieckie?distanceRadius=0&page=1&limit=72&ownerTypeSingleSelect=ALL&locations=%5Bregions-7%5D&by=DEFAULT&direction=DESC&viewType=listing'\n",
    "        ,'https://www.otodom.pl/pl/oferty/sprzedaz/mieszkanie/opolskie?distanceRadius=0&page=1&limit=72&ownerTypeSingleSelect=ALL&locations=%5Bregions-8%5D&by=DEFAULT&direction=DESC&viewType=listing'\n",
    "        ,'https://www.otodom.pl/pl/oferty/sprzedaz/mieszkanie/podkarpackie?distanceRadius=0&page=1&limit=72&ownerTypeSingleSelect=ALL&locations=%5Bregions-9%5D&by=DEFAULT&direction=DESC&viewType=listing'\n",
    "        ,'https://www.otodom.pl/pl/oferty/sprzedaz/mieszkanie/podlaskie?distanceRadius=0&page=1&limit=72&ownerTypeSingleSelect=ALL&locations=%5Bregions-10%5D&by=DEFAULT&direction=DESC&viewType=listing'\n",
    "        ,'https://www.otodom.pl/pl/oferty/sprzedaz/mieszkanie/pomorskie?distanceRadius=0&page=1&limit=72&ownerTypeSingleSelect=ALL&locations=%5Bregions-11%5D&by=DEFAULT&direction=DESC&viewType=listing'\n",
    "        ,'https://www.otodom.pl/pl/oferty/sprzedaz/mieszkanie/slaskie?distanceRadius=0&page=1&limit=72&ownerTypeSingleSelect=ALL&locations=%5Bregions-12%5D&by=DEFAULT&direction=DESC&viewType=listing'\n",
    "        ,'https://www.otodom.pl/pl/oferty/sprzedaz/mieszkanie/swietokrzyskie?distanceRadius=0&page=1&limit=72&ownerTypeSingleSelect=ALL&locations=%5Bregions-13%5D&by=DEFAULT&direction=DESC&viewType=listing'\n",
    "        ,'https://www.otodom.pl/pl/oferty/sprzedaz/mieszkanie/warminsko-mazurskie?distanceRadius=0&page=1&limit=72&ownerTypeSingleSelect=ALL&locations=%5Bregions-14%5D&by=DEFAULT&direction=DESC&viewType=listing'\n",
    "        ,'https://www.otodom.pl/pl/oferty/sprzedaz/mieszkanie/wielkopolskie?distanceRadius=0&page=1&limit=72&ownerTypeSingleSelect=ALL&locations=%5Bregions-15%5D&by=DEFAULT&direction=DESC&viewType=listing'\n",
    "        ,'https://www.otodom.pl/pl/oferty/sprzedaz/mieszkanie/zachodniopomorskie?distanceRadius=0&page=1&limit=72&ownerTypeSingleSelect=ALL&locations=%5Bregions-16%5D&by=DEFAULT&direction=DESC&viewType=listing']"
   ]
  },
  {
   "cell_type": "markdown",
   "id": "c1736118",
   "metadata": {},
   "source": [
    "### *Data extracted from web scripting*"
   ]
  },
  {
   "cell_type": "code",
   "execution_count": 10,
   "id": "1022e02e",
   "metadata": {
    "ExecuteTime": {
     "end_time": "2023-06-09T21:39:11.706449Z",
     "start_time": "2023-06-09T20:09:57.289187Z"
    },
    "noteable": {
     "output_collection_id": "4b25f06e-380e-4700-89fc-c5fa23154831"
    }
   },
   "outputs": [
    {
     "name": "stdout",
     "output_type": "stream",
     "text": [
      "Start\n",
      "Start voivodeship\n",
      "50%\n",
      "End of voivodeship:  1\n",
      "Start voivodeship\n",
      "50%\n",
      "End of voivodeship:  2\n",
      "Start voivodeship\n",
      "50%\n",
      "End of voivodeship:  3\n",
      "Start voivodeship\n",
      "50%\n",
      "End of voivodeship:  4\n",
      "Start voivodeship\n",
      "50%\n",
      "End of voivodeship:  5\n",
      "Start voivodeship\n",
      "50%\n",
      "End of voivodeship:  6\n",
      "Start voivodeship\n",
      "50%\n",
      "End of voivodeship:  7\n",
      "Start voivodeship\n",
      "50%\n",
      "End of voivodeship:  8\n",
      "Start voivodeship\n",
      "50%\n",
      "End of voivodeship:  9\n",
      "Start voivodeship\n",
      "50%\n",
      "End of voivodeship:  10\n",
      "Start voivodeship\n",
      "50%\n",
      "End of voivodeship:  11\n",
      "Start voivodeship\n",
      "50%\n",
      "End of voivodeship:  12\n",
      "Start voivodeship\n",
      "50%\n",
      "End of voivodeship:  13\n",
      "Start voivodeship\n",
      "50%\n",
      "End of voivodeship:  14\n",
      "Start voivodeship\n",
      "50%\n",
      "End of voivodeship:  15\n",
      "Start voivodeship\n",
      "50%\n",
      "End of voivodeship:  16\n",
      "End webscripping!\n"
     ]
    }
   ],
   "source": [
    "data = web_scripping( urls_pages(urls))"
   ]
  },
  {
   "cell_type": "markdown",
   "id": "24c7594b",
   "metadata": {},
   "source": [
    "## ***Data as DataFrame***"
   ]
  },
  {
   "cell_type": "markdown",
   "id": "feed7efc",
   "metadata": {},
   "source": [
    "### Pandas library import"
   ]
  },
  {
   "cell_type": "code",
   "execution_count": 11,
   "id": "8d70ad13",
   "metadata": {
    "ExecuteTime": {
     "end_time": "2023-06-09T21:39:12.661487Z",
     "start_time": "2023-06-09T21:39:11.707749Z"
    }
   },
   "outputs": [],
   "source": [
    "import pandas as pd"
   ]
  },
  {
   "cell_type": "markdown",
   "id": "665a194e",
   "metadata": {},
   "source": [
    "###  Changing the object to a DataFrame"
   ]
  },
  {
   "cell_type": "code",
   "execution_count": 12,
   "id": "9ec5e384",
   "metadata": {
    "ExecuteTime": {
     "end_time": "2023-06-09T21:39:12.753211Z",
     "start_time": "2023-06-09T21:39:12.662679Z"
    }
   },
   "outputs": [],
   "source": [
    "df = pd.DataFrame(data)\n",
    "pd.set_option('display.max_rows', None)"
   ]
  },
  {
   "cell_type": "markdown",
   "id": "ab6be232",
   "metadata": {},
   "source": [
    "### Saving the object as a csv file"
   ]
  },
  {
   "cell_type": "code",
   "execution_count": 13,
   "id": "94e0073f",
   "metadata": {
    "ExecuteTime": {
     "end_time": "2023-06-09T21:39:12.857816Z",
     "start_time": "2023-06-09T21:39:12.754161Z"
    },
    "scrolled": true
   },
   "outputs": [],
   "source": [
    "df.to_csv('houses_in_poland.csv', index=False)"
   ]
  }
 ],
 "metadata": {
  "hide_input": false,
  "kernelspec": {
   "display_name": "Python 3 (ipykernel)",
   "language": "python",
   "name": "python3"
  },
  "language_info": {
   "codemirror_mode": {
    "name": "ipython",
    "version": 3
   },
   "file_extension": ".py",
   "mimetype": "text/x-python",
   "name": "python",
   "nbconvert_exporter": "python",
   "pygments_lexer": "ipython3",
   "version": "3.9.13"
  },
  "noteable": {
   "last_transaction_id": "4174fff0-cb1c-40f2-9ca2-7042eff604be"
  },
  "selected_hardware_size": "small",
  "toc": {
   "base_numbering": 1,
   "nav_menu": {},
   "number_sections": true,
   "sideBar": true,
   "skip_h1_title": true,
   "title_cell": "Table of Contents",
   "title_sidebar": "Contents",
   "toc_cell": true,
   "toc_position": {
    "height": "694.117615px",
    "left": "21px",
    "top": "168px",
    "width": "188.235291px"
   },
   "toc_section_display": true,
   "toc_window_display": true
  },
  "varInspector": {
   "cols": {
    "lenName": 16,
    "lenType": 16,
    "lenVar": 40
   },
   "kernels_config": {
    "python": {
     "delete_cmd_postfix": "",
     "delete_cmd_prefix": "del ",
     "library": "var_list.py",
     "varRefreshCmd": "print(var_dic_list())"
    },
    "r": {
     "delete_cmd_postfix": ") ",
     "delete_cmd_prefix": "rm(",
     "library": "var_list.r",
     "varRefreshCmd": "cat(var_dic_list()) "
    }
   },
   "types_to_exclude": [
    "module",
    "function",
    "builtin_function_or_method",
    "instance",
    "_Feature"
   ],
   "window_display": false
  }
 },
 "nbformat": 4,
 "nbformat_minor": 5
}
