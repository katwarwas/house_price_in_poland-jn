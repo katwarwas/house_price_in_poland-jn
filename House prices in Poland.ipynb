{
 "cells": [
  {
   "cell_type": "markdown",
   "id": "d339072e",
   "metadata": {
    "toc": true
   },
   "source": [
    "<h1>Table of Contents<span class=\"tocSkip\"></span></h1>\n",
    "<div class=\"toc\"><ul class=\"toc-item\"><li><span><a href=\"#Functions-for-web-scripting\" data-toc-modified-id=\"Functions-for-web-scripting-1\"><span class=\"toc-item-num\">1&nbsp;&nbsp;</span><strong><em>Functions for web scripting</em></strong></a></span><ul class=\"toc-item\"><li><span><a href=\"#Installation-of-the-necessary-libraries\" data-toc-modified-id=\"Installation-of-the-necessary-libraries-1.1\"><span class=\"toc-item-num\">1.1&nbsp;&nbsp;</span><em>Installation of the necessary libraries</em></a></span></li><li><span><a href=\"#Importing-important-libraries\" data-toc-modified-id=\"Importing-important-libraries-1.2\"><span class=\"toc-item-num\">1.2&nbsp;&nbsp;</span><em>Importing important libraries</em></a></span></li><li><span><a href=\"#Functions-to-scroll-the-page\" data-toc-modified-id=\"Functions-to-scroll-the-page-1.3\"><span class=\"toc-item-num\">1.3&nbsp;&nbsp;</span><em>Functions to scroll the page</em></a></span></li><li><span><a href=\"#Function-to-download-data-of-interest-from-the-following-sites:.\" data-toc-modified-id=\"Function-to-download-data-of-interest-from-the-following-sites:.-1.4\"><span class=\"toc-item-num\">1.4&nbsp;&nbsp;</span><em>Function to download data of interest from the following sites:</em>.</a></span></li><li><span><a href=\"#Function-that-converts-data-into-dictionaries-with-lists\" data-toc-modified-id=\"Function-that-converts-data-into-dictionaries-with-lists-1.5\"><span class=\"toc-item-num\">1.5&nbsp;&nbsp;</span><em>Function that converts data into dictionaries with lists</em></a></span></li><li><span><a href=\"#Function-for-web-scripting.\" data-toc-modified-id=\"Function-for-web-scripting.-1.6\"><span class=\"toc-item-num\">1.6&nbsp;&nbsp;</span><em>Function for web scripting</em>.</a></span></li><li><span><a href=\"#Function-that-checks-the-number-of-pages-with-advertisements\" data-toc-modified-id=\"Function-that-checks-the-number-of-pages-with-advertisements-1.7\"><span class=\"toc-item-num\">1.7&nbsp;&nbsp;</span><em>Function that checks the number of pages with advertisements</em></a></span></li></ul></li><li><span><a href=\"#Capture-all-data\" data-toc-modified-id=\"Capture-all-data-2\"><span class=\"toc-item-num\">2&nbsp;&nbsp;</span><strong><em>Capture all data</em></strong></a></span><ul class=\"toc-item\"><li><span><a href=\"#Adres-url\" data-toc-modified-id=\"Adres-url-2.1\"><span class=\"toc-item-num\">2.1&nbsp;&nbsp;</span><em>Adres url</em></a></span></li><li><span><a href=\"#Number-of-pages\" data-toc-modified-id=\"Number-of-pages-2.2\"><span class=\"toc-item-num\">2.2&nbsp;&nbsp;</span><em>Number of pages</em></a></span></li><li><span><a href=\"#Data-extracted-from-web-scripting\" data-toc-modified-id=\"Data-extracted-from-web-scripting-2.3\"><span class=\"toc-item-num\">2.3&nbsp;&nbsp;</span><em>Data extracted from web scripting</em></a></span></li></ul></li><li><span><a href=\"#Data-as-DataFrame\" data-toc-modified-id=\"Data-as-DataFrame-3\"><span class=\"toc-item-num\">3&nbsp;&nbsp;</span><strong><em>Data as DataFrame</em></strong></a></span><ul class=\"toc-item\"><li><span><a href=\"#Pandas-library-import\" data-toc-modified-id=\"Pandas-library-import-3.1\"><span class=\"toc-item-num\">3.1&nbsp;&nbsp;</span>Pandas library import</a></span></li><li><span><a href=\"#Changing-the-object-to-a-DataFrame\" data-toc-modified-id=\"Changing-the-object-to-a-DataFrame-3.2\"><span class=\"toc-item-num\">3.2&nbsp;&nbsp;</span>Changing the object to a DataFrame</a></span></li><li><span><a href=\"#Saving-the-object-as-a-csv-file\" data-toc-modified-id=\"Saving-the-object-as-a-csv-file-3.3\"><span class=\"toc-item-num\">3.3&nbsp;&nbsp;</span>Saving the object as a csv file</a></span></li></ul></li><li><span><a href=\"#Data-analysis\" data-toc-modified-id=\"Data-analysis-4\"><span class=\"toc-item-num\">4&nbsp;&nbsp;</span><strong><em>Data analysis</em></strong></a></span><ul class=\"toc-item\"><li><span><a href=\"#Importing-important-libraries\" data-toc-modified-id=\"Importing-important-libraries-4.1\"><span class=\"toc-item-num\">4.1&nbsp;&nbsp;</span><em>Importing important libraries</em></a></span></li><li><span><a href=\"#Data-loading\" data-toc-modified-id=\"Data-loading-4.2\"><span class=\"toc-item-num\">4.2&nbsp;&nbsp;</span><em>Data loading</em></a></span></li><li><span><a href=\"#Area-density-chart\" data-toc-modified-id=\"Area-density-chart-4.3\"><span class=\"toc-item-num\">4.3&nbsp;&nbsp;</span><em>Area density chart</em></a></span></li><li><span><a href=\"#Price-density-chart\" data-toc-modified-id=\"Price-density-chart-4.4\"><span class=\"toc-item-num\">4.4&nbsp;&nbsp;</span><em>Price density chart</em></a></span></li></ul></li></ul></div>"
   ]
  },
  {
   "cell_type": "markdown",
   "id": "3c8a4bc5",
   "metadata": {},
   "source": [
    "# ***House prices in Poland***"
   ]
  },
  {
   "cell_type": "markdown",
   "id": "d26fde32",
   "metadata": {},
   "source": [
    "## ***Functions for web scripting***"
   ]
  },
  {
   "cell_type": "markdown",
   "id": "592e6219",
   "metadata": {},
   "source": [
    "### *Installation of the necessary libraries*"
   ]
  },
  {
   "cell_type": "code",
   "execution_count": null,
   "id": "9b18e486",
   "metadata": {
    "ExecuteTime": {
     "end_time": "2023-05-06T12:06:26.265410Z",
     "start_time": "2023-05-06T12:06:19.562117Z"
    }
   },
   "outputs": [],
   "source": [
    "%pip install selenium \n",
    "%pip install beautifulsoup4\n",
    "%pip install price_parser"
   ]
  },
  {
   "cell_type": "markdown",
   "id": "72665541",
   "metadata": {},
   "source": [
    "### *Importing important libraries*"
   ]
  },
  {
   "cell_type": "code",
   "execution_count": null,
   "id": "8817fd18",
   "metadata": {
    "ExecuteTime": {
     "end_time": "2023-05-06T12:06:31.308302Z",
     "start_time": "2023-05-06T12:06:31.151691Z"
    }
   },
   "outputs": [],
   "source": [
    "import time \n",
    "from selenium import webdriver\n",
    "from bs4 import BeautifulSoup\n",
    "from selenium.webdriver.support.ui import WebDriverWait\n",
    "from selenium.webdriver.common.by import By\n",
    "from selenium.webdriver.support import expected_conditions as EC\n",
    "from price_parser import Price"
   ]
  },
  {
   "cell_type": "markdown",
   "id": "8a946b02",
   "metadata": {},
   "source": [
    "### *Functions to scroll the page*"
   ]
  },
  {
   "cell_type": "code",
   "execution_count": null,
   "id": "62064e21",
   "metadata": {
    "ExecuteTime": {
     "end_time": "2023-05-06T12:06:34.422856Z",
     "start_time": "2023-05-06T12:06:34.417462Z"
    }
   },
   "outputs": [],
   "source": [
    "def scrollDown(driver, value):\n",
    "    driver.execute_script(\"window.scrollBy(0,\"+str(value)+\")\")"
   ]
  },
  {
   "cell_type": "code",
   "execution_count": null,
   "id": "c0baa3f8",
   "metadata": {
    "ExecuteTime": {
     "end_time": "2023-05-06T12:06:35.032343Z",
     "start_time": "2023-05-06T12:06:35.026417Z"
    }
   },
   "outputs": [],
   "source": [
    "def scrollDownAllTheWay(driver):\n",
    "    old_page = driver.page_source\n",
    "    while True:\n",
    "#         print(\"Scrolling down...\")\n",
    "        for i in range(2):\n",
    "            scrollDown(driver, 5000)\n",
    "            time.sleep(0.2)\n",
    "        new_page = driver.page_source\n",
    "        if new_page != old_page:\n",
    "            old_page = new_page\n",
    "        else:\n",
    "            break\n",
    "    return True"
   ]
  },
  {
   "cell_type": "markdown",
   "id": "6d8bdf7a",
   "metadata": {},
   "source": [
    "### *Function to download data of interest from the following sites:*.\n",
    "* the place where the house is located\n",
    "* price per property\n",
    "* price per m2\n",
    "* number of rooms \n",
    "* area of the house "
   ]
  },
  {
   "cell_type": "code",
   "execution_count": null,
   "id": "d267dd4b",
   "metadata": {
    "ExecuteTime": {
     "end_time": "2023-05-06T12:06:39.053707Z",
     "start_time": "2023-05-06T12:06:39.036841Z"
    }
   },
   "outputs": [],
   "source": [
    "def get_data_from_pages(html):\n",
    "    info = []\n",
    "    soup = BeautifulSoup(html, 'html.parser')\n",
    "    all_search = soup.find('div', {'data-cy':\"search.listing.organic\"})\n",
    "    \n",
    "    for li in all_search.find_all('li', {\"data-cy\":\"listing-item\"}):\n",
    "        city = li.find('p', class_='css-14aokuk e1n6ljqa7').text\n",
    "        div = li.find('div', class_=\"e1n6ljqa19 css-6vtodn ei6hyam0\")\n",
    "        all_span = div.find_all('span')\n",
    "        date = []\n",
    "        date.append(city)\n",
    "        for span in range(len(all_span)):\n",
    "            date.append(all_span[span].text)\n",
    "    #         print(type(all_span[span].text))\n",
    "    #         print(all_span[span].text)\n",
    "        info.append(date) \n",
    "    new_info = []\n",
    "    for i in range(len(info)):\n",
    "        if len(info[i]) > 4 and info[i][1] != 'Zapytaj o cenę':\n",
    "            new_info.append(info[i])\n",
    "    info = new_info     \n",
    "    for i in range(len(new_info)):\n",
    "        for j in range(len(new_info[i])):\n",
    "            new_info[i][j] = new_info[i][j].replace('\\xa0', '')\n",
    "\n",
    "\n",
    "        new_info[i][1] = Price.fromstring(new_info[i][1]).amount\n",
    "        new_info[i][2] = Price.fromstring(new_info[i][2]).amount\n",
    "        new_info[i][3] = int(new_info[i][3].replace(' pokój','').replace(' pokoje', '').replace('pokoi', '').replace('+ ',''))\n",
    "        new_info[i][4] = float(new_info[i][4].replace(' m²',''))\n",
    "        \n",
    "    return new_info "
   ]
  },
  {
   "cell_type": "markdown",
   "id": "3f519009",
   "metadata": {},
   "source": [
    "### *Function that converts data into dictionaries with lists*"
   ]
  },
  {
   "cell_type": "code",
   "execution_count": null,
   "id": "fefb8e44",
   "metadata": {
    "ExecuteTime": {
     "end_time": "2023-05-06T12:06:44.823988Z",
     "start_time": "2023-05-06T12:06:44.816314Z"
    }
   },
   "outputs": [],
   "source": [
    "def all_data_dict(info):\n",
    "    town = []\n",
    "    price = []\n",
    "    price_per_m2 = []\n",
    "    number_of_rooms = []\n",
    "    area = []\n",
    "    data = {}\n",
    "    for i in range(len(info)):\n",
    "        town.append(info[i][0])\n",
    "        price.append(info[i][1])\n",
    "        price_per_m2.append(info[i][2])\n",
    "        number_of_rooms.append(info[i][3])\n",
    "        area.append(info[i][4])\n",
    "    data['town'] = town\n",
    "    data['price'] = price\n",
    "    data['price per m2'] = price_per_m2\n",
    "    data['number of rooms'] = number_of_rooms\n",
    "    data['area'] = area\n",
    "    \n",
    "    return data"
   ]
  },
  {
   "cell_type": "markdown",
   "id": "13cd896c",
   "metadata": {},
   "source": [
    "### *Function for web scripting*.\n",
    "A function that pulls data from a page and changes it "
   ]
  },
  {
   "cell_type": "code",
   "execution_count": null,
   "id": "137e3ab5",
   "metadata": {
    "ExecuteTime": {
     "end_time": "2023-05-06T12:06:48.295686Z",
     "start_time": "2023-05-06T12:06:48.283693Z"
    }
   },
   "outputs": [],
   "source": [
    "def web_scripping(url, number_of_pages):\n",
    "    info = []\n",
    "    driver = webdriver.Safari()\n",
    "    driver.get(url)\n",
    "    \n",
    "    start_time = time.time()\n",
    "    for i in range(number_of_pages):\n",
    "        print(round((i+1)/number_of_pages * 100, 1), '%')\n",
    "        scrollDownAllTheWay(driver)\n",
    "        html = driver.page_source\n",
    "        info += get_data_from_pages(html)\n",
    "        while True:\n",
    "            try:\n",
    "                driver.execute_script(\"document.querySelector(\\\"button[data-cy='pagination.next-page']\\\").click()\")\n",
    "                break\n",
    "            except:\n",
    "                print(\"Failed to click the button, trying again....\")\n",
    "        time.sleep(2)\n",
    "    driver.close()\n",
    "    data = all_data_dict(info)\n",
    "    return data"
   ]
  },
  {
   "cell_type": "markdown",
   "id": "b1488465",
   "metadata": {},
   "source": [
    "### *Function that checks the number of pages with advertisements*"
   ]
  },
  {
   "cell_type": "code",
   "execution_count": null,
   "id": "2ba0f2cf",
   "metadata": {
    "ExecuteTime": {
     "end_time": "2023-05-06T12:06:54.109653Z",
     "start_time": "2023-05-06T12:06:54.101470Z"
    }
   },
   "outputs": [],
   "source": [
    "from urllib.request import urlopen\n",
    "import math\n",
    "def numbers_of_pages(url):\n",
    "    page = urlopen(url)\n",
    "    html = page.read().decode('utf-8')\n",
    "    soup = BeautifulSoup(html, 'html.parser')\n",
    "    number_of_offers = int(soup.find('span', class_='css-19fwpg e17mqyjp2').text)\n",
    "    return math.ceil(number_of_offers/72)"
   ]
  },
  {
   "cell_type": "markdown",
   "id": "352fef09",
   "metadata": {},
   "source": [
    "## ***Capture all data***"
   ]
  },
  {
   "cell_type": "markdown",
   "id": "3fc2b44b",
   "metadata": {},
   "source": [
    "### *Adres url*"
   ]
  },
  {
   "cell_type": "code",
   "execution_count": null,
   "id": "63af50d1",
   "metadata": {
    "ExecuteTime": {
     "end_time": "2023-05-06T12:06:59.270628Z",
     "start_time": "2023-05-06T12:06:59.267079Z"
    }
   },
   "outputs": [],
   "source": [
    "url = 'https://www.otodom.pl/pl/oferty/sprzedaz/dom/cala-polska?page=1&limit=72&ownerTypeSingleSelect=ALL&by=DEFAULT&direction=DESC&viewType=listing'"
   ]
  },
  {
   "cell_type": "markdown",
   "id": "cf435b46",
   "metadata": {},
   "source": [
    "### *Number of pages*"
   ]
  },
  {
   "cell_type": "code",
   "execution_count": null,
   "id": "b7429ce5",
   "metadata": {
    "ExecuteTime": {
     "end_time": "2023-05-06T12:07:07.607439Z",
     "start_time": "2023-05-06T12:07:04.934996Z"
    }
   },
   "outputs": [],
   "source": [
    "number_of_pages = numbers_of_pages(url)\n",
    "number_of_pages"
   ]
  },
  {
   "cell_type": "markdown",
   "id": "c1736118",
   "metadata": {},
   "source": [
    "### *Data extracted from web scripting*"
   ]
  },
  {
   "cell_type": "code",
   "execution_count": null,
   "id": "1022e02e",
   "metadata": {
    "ExecuteTime": {
     "end_time": "2023-05-06T11:40:04.211221Z",
     "start_time": "2023-05-06T11:38:17.319423Z"
    }
   },
   "outputs": [],
   "source": [
    "data = web_scripping( url, number_of_pages)"
   ]
  },
  {
   "cell_type": "markdown",
   "id": "24c7594b",
   "metadata": {},
   "source": [
    "## ***Data as DataFrame***"
   ]
  },
  {
   "cell_type": "markdown",
   "id": "feed7efc",
   "metadata": {},
   "source": [
    "### Pandas library import"
   ]
  },
  {
   "cell_type": "code",
   "execution_count": null,
   "id": "8d70ad13",
   "metadata": {
    "ExecuteTime": {
     "end_time": "2023-05-06T11:40:04.215327Z",
     "start_time": "2023-05-06T11:40:04.215318Z"
    }
   },
   "outputs": [],
   "source": [
    "import pandas as pd"
   ]
  },
  {
   "cell_type": "markdown",
   "id": "665a194e",
   "metadata": {},
   "source": [
    "###  Changing the object to a DataFrame"
   ]
  },
  {
   "cell_type": "code",
   "execution_count": null,
   "id": "9ec5e384",
   "metadata": {
    "ExecuteTime": {
     "end_time": "2023-05-06T11:40:04.216272Z",
     "start_time": "2023-05-06T11:40:04.216264Z"
    }
   },
   "outputs": [],
   "source": [
    "df = pd.DataFrame(data)\n",
    "pd.set_option('display.max_rows', None)"
   ]
  },
  {
   "cell_type": "markdown",
   "id": "ab6be232",
   "metadata": {},
   "source": [
    "### Saving the object as a csv file"
   ]
  },
  {
   "cell_type": "code",
   "execution_count": null,
   "id": "94e0073f",
   "metadata": {
    "ExecuteTime": {
     "end_time": "2023-05-06T11:40:04.217880Z",
     "start_time": "2023-05-06T11:40:04.217859Z"
    },
    "scrolled": true
   },
   "outputs": [],
   "source": [
    "df.to_csv('/houses_in_poland.csv', index=False)"
   ]
  },
  {
   "cell_type": "markdown",
   "id": "5662ad28",
   "metadata": {},
   "source": [
    "## ***Data analysis***"
   ]
  },
  {
   "cell_type": "markdown",
   "id": "6a12acc7",
   "metadata": {},
   "source": [
    "### *Importing important libraries*"
   ]
  },
  {
   "cell_type": "code",
   "execution_count": null,
   "id": "ecc66358",
   "metadata": {
    "ExecuteTime": {
     "end_time": "2023-05-06T12:16:16.886306Z",
     "start_time": "2023-05-06T12:16:15.389656Z"
    }
   },
   "outputs": [],
   "source": [
    "import matplotlib\n",
    "matplotlib.use('TkAgg')\n",
    "import seaborn as sns\n",
    "import pandas as pd\n",
    "import matplotlib.pyplot as plt"
   ]
  },
  {
   "cell_type": "markdown",
   "id": "e2fa5241",
   "metadata": {},
   "source": [
    "### *Data loading*"
   ]
  },
  {
   "cell_type": "code",
   "execution_count": null,
   "id": "37c40363",
   "metadata": {
    "ExecuteTime": {
     "end_time": "2023-05-06T12:24:19.580808Z",
     "start_time": "2023-05-06T12:24:19.552202Z"
    }
   },
   "outputs": [],
   "source": [
    "df = pd.read_csv('/houses_in_poland.csv')\n",
    "print(df.head())"
   ]
  },
  {
   "cell_type": "markdown",
   "id": "d361e969",
   "metadata": {},
   "source": [
    "### *Area density chart*"
   ]
  },
  {
   "cell_type": "code",
   "execution_count": null,
   "id": "011e1608",
   "metadata": {},
   "outputs": [],
   "source": [
    "sns.kdeplot(df['area'], color='g', fill=True, alpha=0.3)\n",
    "plt.axvline(df['area'].median(), color='black')\n",
    "plt.axvline(df['area'].mean(), color='red')\n",
    "plt.title('House area distribution')\n",
    "plt.xlabel('Area')\n",
    "plt.ylabel('Density')\n",
    "plt.show()"
   ]
  },
  {
   "cell_type": "markdown",
   "id": "20419b28",
   "metadata": {},
   "source": [
    "### *Price density chart*"
   ]
  },
  {
   "cell_type": "code",
   "execution_count": null,
   "id": "1636c033",
   "metadata": {
    "ExecuteTime": {
     "end_time": "2023-05-06T12:22:31.224765Z",
     "start_time": "2023-05-06T12:22:31.189464Z"
    }
   },
   "outputs": [],
   "source": [
    "sns.kdeplot(df['price'], color='g', fill=True, alpha=0.3)\n",
    "plt.axvline(df['price'].median(), color='black')\n",
    "plt.axvline(df['price'].mean(), color='red')\n",
    "plt.title('House price distribution')\n",
    "plt.xlabel('Price')\n",
    "plt.ylabel('Density')\n",
    "plt.show()"
   ]
  },
  {
   "cell_type": "code",
   "execution_count": null,
   "id": "f4c0671d",
   "metadata": {},
   "outputs": [],
   "source": []
  }
 ],
 "metadata": {
  "hide_input": false,
  "kernelspec": {
   "display_name": "Python 3 (ipykernel)",
   "language": "python",
   "name": "python3"
  },
  "language_info": {
   "codemirror_mode": {
    "name": "ipython",
    "version": 3
   },
   "file_extension": ".py",
   "mimetype": "text/x-python",
   "name": "python",
   "nbconvert_exporter": "python",
   "pygments_lexer": "ipython3",
   "version": "3.9.13"
  },
  "toc": {
   "base_numbering": 1,
   "nav_menu": {},
   "number_sections": true,
   "sideBar": true,
   "skip_h1_title": true,
   "title_cell": "Table of Contents",
   "title_sidebar": "Contents",
   "toc_cell": true,
   "toc_position": {
    "height": "calc(100% - 180px)",
    "left": "10px",
    "top": "150px",
    "width": "188.235291px"
   },
   "toc_section_display": true,
   "toc_window_display": true
  },
  "varInspector": {
   "cols": {
    "lenName": 16,
    "lenType": 16,
    "lenVar": 40
   },
   "kernels_config": {
    "python": {
     "delete_cmd_postfix": "",
     "delete_cmd_prefix": "del ",
     "library": "var_list.py",
     "varRefreshCmd": "print(var_dic_list())"
    },
    "r": {
     "delete_cmd_postfix": ") ",
     "delete_cmd_prefix": "rm(",
     "library": "var_list.r",
     "varRefreshCmd": "cat(var_dic_list()) "
    }
   },
   "types_to_exclude": [
    "module",
    "function",
    "builtin_function_or_method",
    "instance",
    "_Feature"
   ],
   "window_display": false
  }
 },
 "nbformat": 4,
 "nbformat_minor": 5
}
